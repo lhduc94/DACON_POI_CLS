{
 "cells": [
  {
   "cell_type": "code",
   "execution_count": 151,
   "id": "2a4e2427-9e21-4765-bdc6-235fc867c089",
   "metadata": {},
   "outputs": [],
   "source": [
    "import pandas as pd"
   ]
  },
  {
   "cell_type": "code",
   "execution_count": 152,
   "id": "ca3dfb1c-2ca2-4ad2-93d2-7bec3f1015b7",
   "metadata": {},
   "outputs": [],
   "source": [
    "class config:\n",
    "    DIR_NAME='/Data/POI_classification/'\n",
    "    TRAIN_CSV='/Data/POI_classification/train.csv'\n",
    "    TEST_CSV='/Data/POI_classification/test.csv'\n",
    "    TRAIN_IMAGE_DIR='/Data/POI_classification/image/train/'\n",
    "    TEST_IMAGE_DIR='/Data/POI_classification/image/test/'\n",
    "    SAMPLE_SUBMISSION='/Data/POI_classification/sample_submission.csv'\n",
    "    SEED=42"
   ]
  },
  {
   "cell_type": "code",
   "execution_count": 153,
   "id": "919980b3-9a17-40c0-be58-d0abf1e2f99a",
   "metadata": {},
   "outputs": [],
   "source": [
    "train_df = pd.read_csv(config.TRAIN_CSV)\n",
    "test_df = pd.read_csv(config.TEST_CSV)"
   ]
  },
  {
   "cell_type": "code",
   "execution_count": 160,
   "id": "cd08bead-4a2f-4b71-90c3-eaed6d891a06",
   "metadata": {},
   "outputs": [],
   "source": [
    "train_df['overview'] = train_df['overview'].str.replace('\\n','')"
   ]
  },
  {
   "cell_type": "code",
   "execution_count": 161,
   "id": "cb0df0ee-f6d2-4261-a4b8-c144e8db6bb3",
   "metadata": {},
   "outputs": [],
   "source": [
    "train_df.to_csv('train.csv',sep='\\t', index=False)"
   ]
  },
  {
   "cell_type": "code",
   "execution_count": 59,
   "id": "6b15638a-d8f4-4ca4-a544-e66f6a9cadd4",
   "metadata": {},
   "outputs": [],
   "source": [
    "cat1_kr = train_df['cat1'].unique()\n",
    "cat1_en = ['Nature', 'Lesports', 'Food', 'Humanities (Culture/Art/History)', 'Accommodation', 'Shopping']\n",
    "cat1_kr_to_en = {kr:en for kr,en in zip(cat1_kr, cat1_en)}\n",
    "cat1_en_to_kr = {en:kr for kr,en in zip(cat1_kr, cat1_en)}"
   ]
  },
  {
   "cell_type": "code",
   "execution_count": 60,
   "id": "cea3a44f-4723-4605-bf0f-d4f44ad49ba7",
   "metadata": {},
   "outputs": [],
   "source": [
    "cat2_kr = train_df['cat2'].unique()\n",
    "cat2_en = ['Natural tourist attraction',\n",
    " 'Land leisure sports',\n",
    " 'Restaurant',\n",
    " 'Festival',\n",
    " 'Historical tourist attraction',\n",
    " 'Cultural facility',\n",
    " 'Recreational tourism site',\n",
    " 'Accommodation facility',\n",
    " 'Performance/event',\n",
    " 'Shopping',\n",
    " 'Experience tourist destination',\n",
    " 'Complex leisure sports',\n",
    " 'Architecture/sculpture',\n",
    " 'Tourism resource',\n",
    " 'Water sports',\n",
    " 'Industrial tourist destination',\n",
    " 'Aviation sports',\n",
    " 'Introduction to leisure sports']\n",
    "cat2_kr_to_en = {kr:en for kr,en in zip(cat2_kr, cat2_en)}\n",
    "cat2_en_to_kr = {en:kr for kr,en in zip(cat2_kr, cat2_en)}"
   ]
  },
  {
   "cell_type": "code",
   "execution_count": 61,
   "id": "e4308305-06a2-4e1f-9312-706a944351a7",
   "metadata": {},
   "outputs": [],
   "source": [
    "cat3_kr = train_df['cat3'].unique()\n",
    "cat3_en = ['Port/Port', 'Golf', 'Korean Food', 'Camping Site, Auto Camping Site', 'Island', 'General Festival', 'Historic Site/Historical Site', 'Japanese Cuisine',\n",
    "       'Recreational Forest', 'Exhibition Hall', 'Tourist Complex', 'Motel', 'Ski (Board) Rental Shop', 'Bar/Cafe', 'Vegetarian Restaurant',\n",
    "       'Hanok Stay', 'Convention', 'Castle', 'Lunch Food', 'Security Tourism', 'Specialty Shopping Street', 'Unique Street', 'Beach Beach', '5-Day Market',\n",
    "       'Art Museum/Gallery', 'Park', 'Permanent Market', 'Museum', 'Library', 'Performance Hall', 'Rural, Mountain and Fishing Village Experience', 'Complex Leports',\n",
    "       'Pension', 'Mountain', 'Memorial Tower/Monument/Observatory', 'Memorial Hall', 'Car Racing', 'Bicycle Hiking', 'Rare animals and plants',\n",
    "       'Famous Buildings', 'Arboretum', 'Amusement Park', 'Temple', 'River', 'Natural Ecotourism Site', 'Expo', 'Culture Training Facility', 'Valley',\n",
    "       'Waterfall', 'Western Style', 'Religious Site', 'Statue', 'Other Events', 'Old House', 'National Park', 'Guesthouse', 'Sledding Rink',\n",
    "       'Yacht', 'Cultural Center', 'Rafting', 'Equestrian', 'Craft, Workshop', 'Tracking', 'Onsen/Bath/Spa', 'Training facility',\n",
    "       'Scenic coastal view', 'Family restaurant', 'Bizarre rock formations', 'Others', 'Homestay', 'Freshwater fishing', 'Condominium', 'B&B',\n",
    "       'Theme Park', 'Pleasure Boat/Submarine Tour', 'Sea Fishing', 'Swimming', 'Department Store', 'Lake', 'Kayaking/Canoe', 'Foreign Cultural Center',\n",
    "       'Duty Free Shop', 'Bridge/Bridge', 'Casino', 'Fountain', 'Cave', 'Provincial Park', 'Windsurfing/Jet Ski', 'Specialty Store',\n",
    "       'Youth Hostel', 'Forbidden City', 'Service Residence', 'Folk Village', 'Traditional Performance', 'Moon', 'Food and Drink', 'Bungee Jump',\n",
    "       'Tunnel', 'Culture Tourism Festival', 'Cart', 'Club', 'Power Plant', 'Public Concert', 'MTB', 'County Park', 'Skate',\n",
    "       'Large bookstore', 'Birthplace', 'Skydiving', 'Cinema', 'Hangle gliding/paragliding', 'Snorkeling/Skin scuba diving',\n",
    "       'Mineral Spring', 'Inline (including indoor inline)', 'Unique Jjimjilbang', 'School', 'Health Tour', 'Lighthouse', 'Shooting Range', 'ATV',\n",
    "       'Ice Climbing', 'Water Sports', 'Theatre', 'Convention Center', 'Ski/Snowboard', 'Musical', 'Extraordinary Experience', 'Classical Concert']\n",
    "\n",
    "cat3_kr_to_en = {kr:en for kr,en in zip(cat3_kr, cat3_en)}\n",
    "cat3_en_to_kr = {en:kr for kr,en in zip(cat3_kr, cat3_en)}"
   ]
  },
  {
   "cell_type": "code",
   "execution_count": 62,
   "id": "04f17c2f-fb6b-4afc-8420-af82bfb5c08c",
   "metadata": {},
   "outputs": [],
   "source": [
    "train_df['cat1'] = train_df['cat1'].map(cat1_kr_to_en)\n",
    "train_df['cat2'] = train_df['cat2'].map(cat2_kr_to_en)\n",
    "train_df['cat3'] = train_df['cat3'].map(cat3_kr_to_en)"
   ]
  },
  {
   "cell_type": "code",
   "execution_count": 63,
   "id": "fc42d4ff-6722-4063-8ed5-2700ac2d7fb9",
   "metadata": {},
   "outputs": [
    {
     "data": {
      "text/html": [
       "<div><div id=f19f0807-13ce-4e43-b37e-8e054fd0e4f1 style=\"display:none; background-color:#9D6CFF; color:white; width:200px; height:30px; padding-left:5px; border-radius:4px; flex-direction:row; justify-content:space-around; align-items:center;\" onmouseover=\"this.style.backgroundColor='#BA9BF8'\" onmouseout=\"this.style.backgroundColor='#9D6CFF'\" onclick=\"window.commands?.execute('create-mitosheet-from-dataframe-output');\">See Full Dataframe in Mito</div> <script> if (window.commands.hasCommand('create-mitosheet-from-dataframe-output')) document.getElementById('f19f0807-13ce-4e43-b37e-8e054fd0e4f1').style.display = 'flex' </script> <table border=\"1\" class=\"dataframe\">\n",
       "  <thead>\n",
       "    <tr style=\"text-align: right;\">\n",
       "      <th></th>\n",
       "      <th>id</th>\n",
       "      <th>img_path</th>\n",
       "      <th>overview</th>\n",
       "      <th>cat1</th>\n",
       "      <th>cat2</th>\n",
       "      <th>cat3</th>\n",
       "    </tr>\n",
       "  </thead>\n",
       "  <tbody>\n",
       "    <tr>\n",
       "      <th>0</th>\n",
       "      <td>TRAIN_00000</td>\n",
       "      <td>./image/train/TRAIN_00000.jpg</td>\n",
       "      <td>소안항은 조용한 섬으로 인근해안이 청정해역으로 일찍이 김 양식을 해서 높은 소득을 올리고 있으며 바다낚시터로도 유명하다. 항 주변에 설치된 양식장들은 섬사람들의 부지런한 생활상을 고스 란히 담고 있으며 일몰 때 섬의 정경은 바다의 아름다움을 그대로 품고 있는 듯하다. 또한, 섬에는 각시여 전설, 도둑바위 등의 설화가 전해 내려오고 있으며, 매년 정월 풍어제 풍속이 이어지고 있다.&lt;br&gt;</td>\n",
       "      <td>Nature</td>\n",
       "      <td>Natural tourist attraction</td>\n",
       "      <td>Port/Port</td>\n",
       "    </tr>\n",
       "    <tr>\n",
       "      <th>1</th>\n",
       "      <td>TRAIN_00001</td>\n",
       "      <td>./image/train/TRAIN_00001.jpg</td>\n",
       "      <td>경기도 이천시 모가면에 있는 골프장으로 대중제 18홀이다. 회원제로 개장을 했다가 2016년 대중제로 전환하여 재개장했다. 총 부지 약 980,,000㎡에 전장 6,607m에 18홀 파 72이다. Lake 코스와 Mountain 코스가 있다. 미국 100대 골프 코스 설계자인 짐 파지오가 아마추어에게는 쉽고 프로골퍼에게는 어렵게 설계했다고 한다. 가까이에 뉴스프링빌CC, 써닝포인트CC, 비에이비스타CC, 덕평CC 등의 골프장이 있다.</td>\n",
       "      <td>Lesports</td>\n",
       "      <td>Land leisure sports</td>\n",
       "      <td>Golf</td>\n",
       "    </tr>\n",
       "    <tr>\n",
       "      <th>2</th>\n",
       "      <td>TRAIN_00002</td>\n",
       "      <td>./image/train/TRAIN_00002.jpg</td>\n",
       "      <td>금오산성숯불갈비는 한우고기만을 전문적으로 취급하고 사용하는 부식 자재 또한 유기농법으로 재배한 청정야채만을 취급하고 있다고 한다. 음식을 담은 그릇도 모두 전통 놋그릇으로 통일하였고 수저 또한 깨끗하고 예쁜 수젓집에 넣어서 나오는 등 작은 곳에서부터 정성을 다하는 모습을 느낄 수 있다.</td>\n",
       "      <td>Food</td>\n",
       "      <td>Restaurant</td>\n",
       "      <td>Korean Food</td>\n",
       "    </tr>\n",
       "    <tr>\n",
       "      <th>3</th>\n",
       "      <td>TRAIN_00003</td>\n",
       "      <td>./image/train/TRAIN_00003.jpg</td>\n",
       "      <td>철판 위에서 요리하는 안동찜닭을 맛볼 수 있는 곳이다. 경상북도 안동시에 있는 한식 전문점이다. 대표메뉴는 안동찜닭이다.</td>\n",
       "      <td>Food</td>\n",
       "      <td>Restaurant</td>\n",
       "      <td>Korean Food</td>\n",
       "    </tr>\n",
       "    <tr>\n",
       "      <th>4</th>\n",
       "      <td>TRAIN_00004</td>\n",
       "      <td>./image/train/TRAIN_00004.jpg</td>\n",
       "      <td>※ 영업시간 10:30 ~ 20:30\\n\\n3대에 걸쳐 아귀만을 전문으로 취급하는 전통과 역사를 자랑하는 음식점이다.</td>\n",
       "      <td>Food</td>\n",
       "      <td>Restaurant</td>\n",
       "      <td>Korean Food</td>\n",
       "    </tr>\n",
       "    <tr>\n",
       "      <th>...</th>\n",
       "      <td>...</td>\n",
       "      <td>...</td>\n",
       "      <td>...</td>\n",
       "      <td>...</td>\n",
       "      <td>...</td>\n",
       "      <td>...</td>\n",
       "    </tr>\n",
       "    <tr>\n",
       "      <th>16981</th>\n",
       "      <td>TRAIN_16981</td>\n",
       "      <td>./image/train/TRAIN_16981.jpg</td>\n",
       "      <td>해발 12000m에 자리한 식담겸 카페점문점이다.&lt;br&gt;곤드레밥과 감자전을 판매하고 있다.</td>\n",
       "      <td>Food</td>\n",
       "      <td>Restaurant</td>\n",
       "      <td>Korean Food</td>\n",
       "    </tr>\n",
       "    <tr>\n",
       "      <th>16982</th>\n",
       "      <td>TRAIN_16982</td>\n",
       "      <td>./image/train/TRAIN_16982.jpg</td>\n",
       "      <td>설악힐호텔은 동해고속도로 속초톨게이트에서 멀지 않은 관광로 변에 있다. 속초의 대표 여행지인 청초호, 속초항, 속초해수욕장에서 5km 남짓 떨어진 곳이다. 지상 6층 규모의 설악힐호텔은 침실, 한실, 특실 등 다양한 규모의 30개 객실을 갖췄다. 특히 최대 7인까지 숙박이 가능한 특실은 거실과 침실이 구분된 구조로, 침실에는 더블베드 1개, 싱글베드 1개 등 총 2개 침대가 구비됐다. 설악힐호텔은 속초의 명물인 울산바위와 가까운 곳에 자리해 호텔 서쪽 객실과 특실이 있는 6층 복도에서 울산바위를 조망할 수 있다. 동해 일출과 함께 붉게 물드는 울산바위 모습이 장관이다. 척산온천이 호텔에서 도보 5분 거리에 위치한 점도 매력이다. 하루 3000톤 이상 용출되는 척산온천은 불소와 라돈이 다량 함유된 알칼리성 온천이다. 호텔 입구에 32대 차량을 주차할 수 있는 넉넉한 주차장이 있고, 로비는 벽난로와 고급 소파로 멋스럽게 꾸몄다.&lt;br&gt;</td>\n",
       "      <td>Accommodation</td>\n",
       "      <td>Accommodation facility</td>\n",
       "      <td>Motel</td>\n",
       "    </tr>\n",
       "    <tr>\n",
       "      <th>16983</th>\n",
       "      <td>TRAIN_16983</td>\n",
       "      <td>./image/train/TRAIN_16983.jpg</td>\n",
       "      <td>충남 서산시 중심가에 위치한 줌모텔은 프라이버스가 보장되는 조용한 공간으로 가치가 높다. 도심의 유흥가에 위치해 다소 어수선해 보이지만 객실에 들어서면 무척 조용하다. 모텔 지하에는 단란주점이 마련돼 있어 비즈니스 목적의 투숙객이 많은 편이다. 투숙객을 위해 간단한 아침이 제공된다. 객실은 35실로 모두 일반실이다. 일반실은 욕조가 있는 방과 샤워 부스가 있는 객실로 구분할 수 있다. 숙박 요금은 동일하다. 모든 객실에 인터넷 전용선이 제공된다. 주차는 실외 주차장에 약 25대 정도 주차할 수 있다.</td>\n",
       "      <td>Accommodation</td>\n",
       "      <td>Accommodation facility</td>\n",
       "      <td>Motel</td>\n",
       "    </tr>\n",
       "    <tr>\n",
       "      <th>16984</th>\n",
       "      <td>TRAIN_16984</td>\n",
       "      <td>./image/train/TRAIN_16984.jpg</td>\n",
       "      <td>토토큰바위캠핑장은 경기도 가평지역 내에서도 청정지역으로 손꼽히는 지역으로 주변에 화악산 중봉 및 청정계곡을 접하고 있는 지역이다. 화악산 중턱에 위치하여 한여름에도 서늘하며, 정면으로 화악산 정상을 마주하고 있다.&lt;br /&gt;※ 본 캠핑장은(관광진흥법에 의거) 관광사업 등록 캠핑장임.</td>\n",
       "      <td>Lesports</td>\n",
       "      <td>Land leisure sports</td>\n",
       "      <td>Camping Site, Auto Camping Site</td>\n",
       "    </tr>\n",
       "    <tr>\n",
       "      <th>16985</th>\n",
       "      <td>TRAIN_16985</td>\n",
       "      <td>./image/train/TRAIN_16985.jpg</td>\n",
       "      <td>포천의 진산으로 불리우는 왕방산(王訪山)에는 천년의 역사를 간직하고 있는 왕산사(王山寺)가 자리하고 있다. 일찍이 도선국사가 절을 창건하고 이곳에 머물러 계실 때, 국왕이 친히 멀리까지 행차하여 친견하고 돌아갔다고 한다. 그런가 하면 세월이 흘러 조선시대에도 왕위에서 물러난 조선 태조가 한양으로 돌아가는 도중에 왕자들의 골육상쟁 소식을 듣고 마음을 달래기 위해 왕방사(지금의 왕산사)에 며칠 동안 머무르기도 했다고 한다. &lt;br /&gt;&lt;br /&gt;이러한 이야기로 인해 왕산사(王山寺)는 경기도 포천시 신읍동 산52번지에 자리한 대한불교조계종 제25교구인 봉선사의 말사이다산 이름조차 왕방산이라 불렸으며, 왕산사는 시대는 다르지만 왕이 찾아와 머문 사찰로 알려지게 되었다. 그러나 세월이 흐름에 따라 사찰의 역사는 희미해져 청매(靑梅)스님의 중건이 있기까지는 어떻게 법등을 이어왔는지 알 수 없는 지경이 되기도 했다.&lt;br /&gt; &lt;br /&gt;청매스님은 해방이후 폐허나 마찬가지였던 곳을 오늘의 모습이 되도록 큰 힘을 기울여 오신 분이시다. 이렇게 청매스님에 의해 법등을 잇게 된 이후 근래에 들어 법해스님이 옛 이름을 쫓아 왕산사로 바꿔 사찰의 면모를 일신하는 10년 중창불사 계획을 발원하고 있다. 그래서 현재 새로운 대웅전 건립을 위한 터를 마련하였으며, 미륵전 참배객을 위한 공간 확보와 불자들의 수행진작을 위한 시민선방 등을 건립할 계획이라 한다. 이러한 중창불사가 완료되면 왕산사는 그 옛날의 위용을 되찾는 한편 포천의 으뜸도량으로 탈바꿈할 것이다.</td>\n",
       "      <td>Humanities (Culture/Art/History)</td>\n",
       "      <td>Historical tourist attraction</td>\n",
       "      <td>Temple</td>\n",
       "    </tr>\n",
       "  </tbody>\n",
       "</table></div>"
      ],
      "text/plain": [
       "                id                       img_path  \\\n",
       "0      TRAIN_00000  ./image/train/TRAIN_00000.jpg   \n",
       "1      TRAIN_00001  ./image/train/TRAIN_00001.jpg   \n",
       "2      TRAIN_00002  ./image/train/TRAIN_00002.jpg   \n",
       "3      TRAIN_00003  ./image/train/TRAIN_00003.jpg   \n",
       "4      TRAIN_00004  ./image/train/TRAIN_00004.jpg   \n",
       "...            ...                            ...   \n",
       "16981  TRAIN_16981  ./image/train/TRAIN_16981.jpg   \n",
       "16982  TRAIN_16982  ./image/train/TRAIN_16982.jpg   \n",
       "16983  TRAIN_16983  ./image/train/TRAIN_16983.jpg   \n",
       "16984  TRAIN_16984  ./image/train/TRAIN_16984.jpg   \n",
       "16985  TRAIN_16985  ./image/train/TRAIN_16985.jpg   \n",
       "\n",
       "                                                overview  \\\n",
       "0      소안항은 조용한 섬으로 인근해안이 청정해역으로 일찍이 김 양식을 해서 높은 소득을 ...   \n",
       "1      경기도 이천시 모가면에 있는 골프장으로 대중제 18홀이다. 회원제로 개장을 했다가 ...   \n",
       "2      금오산성숯불갈비는 한우고기만을 전문적으로 취급하고 사용하는 부식 자재 또한 유기농법...   \n",
       "3      철판 위에서 요리하는 안동찜닭을 맛볼 수 있는 곳이다. 경상북도 안동시에 있는 한식...   \n",
       "4      ※ 영업시간 10:30 ~ 20:30\\n\\n3대에 걸쳐 아귀만을 전문으로 취급하는 ...   \n",
       "...                                                  ...   \n",
       "16981  해발 12000m에 자리한 식담겸 카페점문점이다.<br>곤드레밥과 감자전을 판매하고...   \n",
       "16982  설악힐호텔은 동해고속도로 속초톨게이트에서 멀지 않은 관광로 변에 있다. 속초의 대표...   \n",
       "16983  충남 서산시 중심가에 위치한 줌모텔은 프라이버스가 보장되는 조용한 공간으로 가치가 ...   \n",
       "16984  토토큰바위캠핑장은 경기도 가평지역 내에서도 청정지역으로 손꼽히는 지역으로 주변에 화...   \n",
       "16985  포천의 진산으로 불리우는 왕방산(王訪山)에는 천년의 역사를 간직하고 있는 왕산사(王...   \n",
       "\n",
       "                                   cat1                           cat2  \\\n",
       "0                                Nature     Natural tourist attraction   \n",
       "1                              Lesports            Land leisure sports   \n",
       "2                                  Food                     Restaurant   \n",
       "3                                  Food                     Restaurant   \n",
       "4                                  Food                     Restaurant   \n",
       "...                                 ...                            ...   \n",
       "16981                              Food                     Restaurant   \n",
       "16982                     Accommodation         Accommodation facility   \n",
       "16983                     Accommodation         Accommodation facility   \n",
       "16984                          Lesports            Land leisure sports   \n",
       "16985  Humanities (Culture/Art/History)  Historical tourist attraction   \n",
       "\n",
       "                                  cat3  \n",
       "0                            Port/Port  \n",
       "1                                 Golf  \n",
       "2                          Korean Food  \n",
       "3                          Korean Food  \n",
       "4                          Korean Food  \n",
       "...                                ...  \n",
       "16981                      Korean Food  \n",
       "16982                            Motel  \n",
       "16983                            Motel  \n",
       "16984  Camping Site, Auto Camping Site  \n",
       "16985                           Temple  \n",
       "\n",
       "[16986 rows x 6 columns]"
      ]
     },
     "execution_count": 63,
     "metadata": {},
     "output_type": "execute_result"
    }
   ],
   "source": [
    "train_df"
   ]
  },
  {
   "cell_type": "code",
   "execution_count": 64,
   "id": "84230889-984b-49cd-b133-052593c4314c",
   "metadata": {},
   "outputs": [],
   "source": [
    "from sklearn.feature_extraction.text import TfidfVectorizer"
   ]
  },
  {
   "cell_type": "code",
   "execution_count": 100,
   "id": "4c114146-847d-45d0-91eb-e9b905e82c9f",
   "metadata": {},
   "outputs": [],
   "source": [
    "tfidf = TfidfVectorizer(ngram_range=(1,2), max_features=10000)"
   ]
  },
  {
   "cell_type": "code",
   "execution_count": 101,
   "id": "3c1800d6-1ebe-44e5-839a-243e5770306a",
   "metadata": {},
   "outputs": [
    {
     "data": {
      "text/plain": [
       "TfidfVectorizer(max_features=10000, ngram_range=(1, 2))"
      ]
     },
     "execution_count": 101,
     "metadata": {},
     "output_type": "execute_result"
    }
   ],
   "source": [
    "tfidf.fit(train_df['overview'])"
   ]
  },
  {
   "cell_type": "code",
   "execution_count": 102,
   "id": "b2395570-8c70-4001-ab81-f427da0a02b9",
   "metadata": {},
   "outputs": [],
   "source": [
    "X = tfidf.transform(train_df['overview'])\n",
    "X_test = tfidf.transform(test_df['overview'])"
   ]
  },
  {
   "cell_type": "code",
   "execution_count": 140,
   "id": "2c202d86-2ae4-4a07-bf78-bae058955c97",
   "metadata": {},
   "outputs": [],
   "source": [
    "y = train_df['cat1']"
   ]
  },
  {
   "cell_type": "code",
   "execution_count": 141,
   "id": "87a32a5b-8d12-4ca1-ac57-1042411fbc52",
   "metadata": {},
   "outputs": [],
   "source": [
    "from sklearn.linear_model import LogisticRegression\n",
    "from sklearn.model_selection import train_test_split, StratifiedKFold"
   ]
  },
  {
   "cell_type": "code",
   "execution_count": 142,
   "id": "3ffec350-923f-4902-8027-3e47135df2d5",
   "metadata": {},
   "outputs": [],
   "source": [
    "X_train, X_valid, y_train, y_valid = train_test_split(X, y, train_size=0.6, random_state=42)"
   ]
  },
  {
   "cell_type": "code",
   "execution_count": 143,
   "id": "687ab3fb-ef64-4127-83f4-6cf7e12b7df3",
   "metadata": {},
   "outputs": [
    {
     "name": "stderr",
     "output_type": "stream",
     "text": [
      "D:\\Vendors\\anaconda\\lib\\site-packages\\sklearn\\linear_model\\_logistic.py:814: ConvergenceWarning: lbfgs failed to converge (status=1):\n",
      "STOP: TOTAL NO. of ITERATIONS REACHED LIMIT.\n",
      "\n",
      "Increase the number of iterations (max_iter) or scale the data as shown in:\n",
      "    https://scikit-learn.org/stable/modules/preprocessing.html\n",
      "Please also refer to the documentation for alternative solver options:\n",
      "    https://scikit-learn.org/stable/modules/linear_model.html#logistic-regression\n",
      "  n_iter_i = _check_optimize_result(\n"
     ]
    },
    {
     "data": {
      "text/plain": [
       "LogisticRegression(class_weight='balanced')"
      ]
     },
     "execution_count": 143,
     "metadata": {},
     "output_type": "execute_result"
    }
   ],
   "source": [
    "model = LogisticRegression(class_weight='balanced')\n",
    "model.fit(X_train, y_train)"
   ]
  },
  {
   "cell_type": "code",
   "execution_count": 144,
   "id": "04f14a3c-c8bc-4523-8186-4bc3e92bb770",
   "metadata": {},
   "outputs": [],
   "source": [
    "y_pred = model.predict(X_valid)"
   ]
  },
  {
   "cell_type": "code",
   "execution_count": 145,
   "id": "5331b639-16de-49a3-a397-a21c10a5753e",
   "metadata": {},
   "outputs": [
    {
     "data": {
      "text/plain": [
       "array(['Food', 'Nature', 'Accommodation', ..., 'Shopping', 'Food',\n",
       "       'Nature'], dtype=object)"
      ]
     },
     "execution_count": 145,
     "metadata": {},
     "output_type": "execute_result"
    }
   ],
   "source": [
    "y_pred"
   ]
  },
  {
   "cell_type": "code",
   "execution_count": 146,
   "id": "3b4a3956-41da-4d13-b11c-edf07fe44f4b",
   "metadata": {},
   "outputs": [],
   "source": [
    "from sklearn.metrics import classification_report"
   ]
  },
  {
   "cell_type": "code",
   "execution_count": 147,
   "id": "af1cb677-6f11-4922-b235-a4b630777deb",
   "metadata": {},
   "outputs": [
    {
     "name": "stdout",
     "output_type": "stream",
     "text": [
      "                                  precision    recall  f1-score   support\n",
      "\n",
      "                   Accommodation       0.78      0.86      0.82       573\n",
      "                            Food       0.97      0.95      0.96      2004\n",
      "Humanities (Culture/Art/History)       0.86      0.81      0.84      2236\n",
      "                        Lesports       0.86      0.81      0.83      1033\n",
      "                          Nature       0.62      0.78      0.69       682\n",
      "                        Shopping       0.79      0.82      0.80       267\n",
      "\n",
      "                        accuracy                           0.85      6795\n",
      "                       macro avg       0.81      0.84      0.82      6795\n",
      "                    weighted avg       0.86      0.85      0.85      6795\n",
      "\n"
     ]
    }
   ],
   "source": [
    "print(classification_report(y_valid, y_pred))"
   ]
  },
  {
   "cell_type": "code",
   "execution_count": 148,
   "id": "7bc8b078-e015-4f6b-b1af-38012b913296",
   "metadata": {},
   "outputs": [],
   "source": [
    "X_test = tfidf.transform(test_df['overview'])"
   ]
  },
  {
   "cell_type": "code",
   "execution_count": 149,
   "id": "8e0f5c04-b065-4101-b9c3-9bde8f4fe2c4",
   "metadata": {},
   "outputs": [
    {
     "name": "stderr",
     "output_type": "stream",
     "text": [
      "D:\\Vendors\\anaconda\\lib\\site-packages\\sklearn\\linear_model\\_logistic.py:814: ConvergenceWarning: lbfgs failed to converge (status=1):\n",
      "STOP: TOTAL NO. of ITERATIONS REACHED LIMIT.\n",
      "\n",
      "Increase the number of iterations (max_iter) or scale the data as shown in:\n",
      "    https://scikit-learn.org/stable/modules/preprocessing.html\n",
      "Please also refer to the documentation for alternative solver options:\n",
      "    https://scikit-learn.org/stable/modules/linear_model.html#logistic-regression\n",
      "  n_iter_i = _check_optimize_result(\n"
     ]
    },
    {
     "data": {
      "text/plain": [
       "LogisticRegression(class_weight='balanced')"
      ]
     },
     "execution_count": 149,
     "metadata": {},
     "output_type": "execute_result"
    }
   ],
   "source": [
    "model.fit(X,y)"
   ]
  },
  {
   "cell_type": "code",
   "execution_count": 137,
   "id": "4525770c-571f-4c4c-8e7d-dee3677d6572",
   "metadata": {},
   "outputs": [
    {
     "data": {
      "text/html": [
       "<div><div id=adf10c60-7592-4bf5-805d-58fc17045862 style=\"display:none; background-color:#9D6CFF; color:white; width:200px; height:30px; padding-left:5px; border-radius:4px; flex-direction:row; justify-content:space-around; align-items:center;\" onmouseover=\"this.style.backgroundColor='#BA9BF8'\" onmouseout=\"this.style.backgroundColor='#9D6CFF'\" onclick=\"window.commands?.execute('create-mitosheet-from-dataframe-output');\">See Full Dataframe in Mito</div> <script> if (window.commands.hasCommand('create-mitosheet-from-dataframe-output')) document.getElementById('adf10c60-7592-4bf5-805d-58fc17045862').style.display = 'flex' </script> <table border=\"1\" class=\"dataframe\">\n",
       "  <thead>\n",
       "    <tr style=\"text-align: right;\">\n",
       "      <th></th>\n",
       "      <th>id</th>\n",
       "      <th>cat3</th>\n",
       "    </tr>\n",
       "  </thead>\n",
       "  <tbody>\n",
       "    <tr>\n",
       "      <th>0</th>\n",
       "      <td>TEST_00000</td>\n",
       "      <td>한식</td>\n",
       "    </tr>\n",
       "    <tr>\n",
       "      <th>1</th>\n",
       "      <td>TEST_00001</td>\n",
       "      <td>한식</td>\n",
       "    </tr>\n",
       "    <tr>\n",
       "      <th>2</th>\n",
       "      <td>TEST_00002</td>\n",
       "      <td>한식</td>\n",
       "    </tr>\n",
       "    <tr>\n",
       "      <th>3</th>\n",
       "      <td>TEST_00003</td>\n",
       "      <td>한식</td>\n",
       "    </tr>\n",
       "    <tr>\n",
       "      <th>4</th>\n",
       "      <td>TEST_00004</td>\n",
       "      <td>한식</td>\n",
       "    </tr>\n",
       "    <tr>\n",
       "      <th>...</th>\n",
       "      <td>...</td>\n",
       "      <td>...</td>\n",
       "    </tr>\n",
       "    <tr>\n",
       "      <th>7275</th>\n",
       "      <td>TEST_07275</td>\n",
       "      <td>한식</td>\n",
       "    </tr>\n",
       "    <tr>\n",
       "      <th>7276</th>\n",
       "      <td>TEST_07276</td>\n",
       "      <td>한식</td>\n",
       "    </tr>\n",
       "    <tr>\n",
       "      <th>7277</th>\n",
       "      <td>TEST_07277</td>\n",
       "      <td>한식</td>\n",
       "    </tr>\n",
       "    <tr>\n",
       "      <th>7278</th>\n",
       "      <td>TEST_07278</td>\n",
       "      <td>한식</td>\n",
       "    </tr>\n",
       "    <tr>\n",
       "      <th>7279</th>\n",
       "      <td>TEST_07279</td>\n",
       "      <td>한식</td>\n",
       "    </tr>\n",
       "  </tbody>\n",
       "</table></div>"
      ],
      "text/plain": [
       "              id cat3\n",
       "0     TEST_00000   한식\n",
       "1     TEST_00001   한식\n",
       "2     TEST_00002   한식\n",
       "3     TEST_00003   한식\n",
       "4     TEST_00004   한식\n",
       "...          ...  ...\n",
       "7275  TEST_07275   한식\n",
       "7276  TEST_07276   한식\n",
       "7277  TEST_07277   한식\n",
       "7278  TEST_07278   한식\n",
       "7279  TEST_07279   한식\n",
       "\n",
       "[7280 rows x 2 columns]"
      ]
     },
     "execution_count": 137,
     "metadata": {},
     "output_type": "execute_result"
    }
   ],
   "source": [
    "sample_submission = pd.read_csv(config.SAMPLE_SUBMISSION)\n",
    "sample_submission"
   ]
  },
  {
   "cell_type": "code",
   "execution_count": 138,
   "id": "53c7e10c-d906-418e-bb35-f305e28ac17d",
   "metadata": {},
   "outputs": [],
   "source": [
    "y_pred = model.predict(X_test)"
   ]
  },
  {
   "cell_type": "code",
   "execution_count": 139,
   "id": "4b1f7751-7de3-4f3c-9f24-03e65343b640",
   "metadata": {},
   "outputs": [],
   "source": [
    "test_df['cat3'] = y_pred"
   ]
  },
  {
   "cell_type": "code",
   "execution_count": 120,
   "id": "877ae2e0-2efa-4406-ba7a-e1d84fc2979b",
   "metadata": {},
   "outputs": [],
   "source": [
    "test_df['cat3'] = test_df['cat3'].map(cat3_en_to_kr)"
   ]
  },
  {
   "cell_type": "code",
   "execution_count": 122,
   "id": "5d8c69d9-b178-46b5-9c07-e9ca4c87188f",
   "metadata": {},
   "outputs": [],
   "source": [
    "test_df.to_csv('sub.csv', index=False, columns=['id','cat3'])"
   ]
  },
  {
   "cell_type": "code",
   "execution_count": 126,
   "id": "aab8f8cf-2549-467f-b0a4-745c68de5b5c",
   "metadata": {},
   "outputs": [
    {
     "data": {
      "text/plain": [
       "0                                        Korean Food\n",
       "1                                   Famous Buildings\n",
       "2                                        Korean Food\n",
       "3                                  Training facility\n",
       "4                                           Mountain\n",
       "5                                        Korean Food\n",
       "6                                           Bar/Cafe\n",
       "7                                        Korean Food\n",
       "8                                             Castle\n",
       "9                                   Permanent Market\n",
       "10                                   Cultural Center\n",
       "11                                  Permanent Market\n",
       "12    Rural, Mountain and Fishing Village Experience\n",
       "13                                            Temple\n",
       "14                                       Korean Food\n",
       "15                                     Western Style\n",
       "16                                      5-Day Market\n",
       "17                                       Beach Beach\n",
       "18                                         Waterfall\n",
       "19                                  Performance Hall\n",
       "Name: cat3, dtype: object"
      ]
     },
     "execution_count": 126,
     "metadata": {},
     "output_type": "execute_result"
    }
   ],
   "source": [
    "test_df['cat3'].head(20)"
   ]
  },
  {
   "cell_type": "code",
   "execution_count": null,
   "id": "df2129fd-8c7c-4e7f-83e1-bc15874d1e74",
   "metadata": {},
   "outputs": [],
   "source": []
  }
 ],
 "metadata": {
  "kernelspec": {
   "display_name": "Python 3 (ipykernel)",
   "language": "python",
   "name": "python3"
  },
  "language_info": {
   "codemirror_mode": {
    "name": "ipython",
    "version": 3
   },
   "file_extension": ".py",
   "mimetype": "text/x-python",
   "name": "python",
   "nbconvert_exporter": "python",
   "pygments_lexer": "ipython3",
   "version": "3.9.7"
  }
 },
 "nbformat": 4,
 "nbformat_minor": 5
}
