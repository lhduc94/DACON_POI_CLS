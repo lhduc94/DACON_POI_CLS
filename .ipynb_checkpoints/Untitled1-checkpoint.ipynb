{
 "cells": [
  {
   "cell_type": "code",
   "execution_count": 1,
   "id": "ec436a6f-9e98-433d-b6a1-3546ba2aaf5b",
   "metadata": {},
   "outputs": [],
   "source": [
    "class cfg:\n",
    "    DIR_NAME='/Data/POI_classification/'\n",
    "    TRAIN_CSV='/Data/POI_classification/train.csv'\n",
    "    TEST_CSV='/Data/POI_classification/test.csv'\n",
    "    TRAIN_IMAGE_DIR='/Data/POI_classification/image/train/'\n",
    "    TEST_IMAGE_DIR='/Data/POI_classification/image/test/'\n",
    "    SAMPLE_SUBMISSION='/Data/POI_classification/sample_submission.csv'\n",
    "    PRETRAINED_PATH='klue/bert-base'\n",
    "    MAX_SEQ_LENGTH=152\n",
    "    MAX_TOKEN_LEN=200\n",
    "    SEED=42\n",
    "    NUM_CLASSES=58\n",
    "    HIDDEN_SIZE=512\n",
    "    DROPOUT=0.2\n",
    "    N_TRAINING_DATA=-1\n",
    "    ACCUMULATE_GRAD_BATCHES=1\n",
    "    NUM_TRAIN_EPOCHS=1\n",
    "    WEIGHT_DECAY=0.01\n",
    "    LEARNING_RATE=5e-5\n",
    "    ADAM_EPSILON=1e-8\n",
    "    N_WARMUP_STEP=0"
   ]
  },
  {
   "cell_type": "code",
   "execution_count": 2,
   "id": "22b319de-7f48-424f-a874-9b4afc588592",
   "metadata": {},
   "outputs": [],
   "source": [
    "reversed_mapping = {0: '항구/포구', 1: '골프', 2: '한식', 3: '야영장,오토캠핑장', 4: '섬', 5: '일반축제', 6: '유적지/사적지', 7: '일식', 8: '자연휴양림', 9: '전시관', 10: '관광단지', 11: '모텔', 12: '스키(보드) 렌탈샵', 13: '바/까페', 14: 'other', 15: '한옥스테이', 16: '성', 17: '중식', 18: '전문상가', 19: '이색거리', 20: '해수욕장', 21: '5일장', 22: '미술관/화랑', 23: '공원', 24: '상설시장', 25: '박물관', 26: '도서관', 27: '공연장', 28: '농.산.어촌 체험', 29: '펜션', 30: '산', 31: '기념탑/기념비/전망대', 32: '기념관', 33: '희귀동.식물', 34: '유명건물', 35: '수목원', 36: '유원지', 37: '사찰', 38: '강', 39: '자연생태관광지', 40: '계곡', 41: '서양식', 42: '종교성지', 43: '기타행사', 44: '고택', 45: '게스트하우스', 46: '문화원', 47: '트래킹', 48: '온천/욕장/스파', 49: '수련시설', 50: '패밀리레스토랑', 51: '기암괴석', 52: '기타', 53: '홈스테이', 54: '민물낚시', 55: '테마공원', 56: '바다낚시', 57: '민속마을'}"
   ]
  },
  {
   "cell_type": "code",
   "execution_count": 3,
   "id": "decedf0f-7352-4574-86f1-31dd17d5c24a",
   "metadata": {},
   "outputs": [
    {
     "data": {
      "text/plain": [
       "{'other': '한식'}"
      ]
     },
     "execution_count": 3,
     "metadata": {},
     "output_type": "execute_result"
    }
   ],
   "source": [
    "{'other': '한식'}"
   ]
  },
  {
   "cell_type": "code",
   "execution_count": 4,
   "id": "0f88a1ce-6a1e-4ef7-bda1-a453d977e319",
   "metadata": {},
   "outputs": [],
   "source": [
    "import pandas as pd"
   ]
  },
  {
   "cell_type": "code",
   "execution_count": 5,
   "id": "703e5805-fde5-4d0b-a07a-c8d2a126eba2",
   "metadata": {},
   "outputs": [
    {
     "name": "stderr",
     "output_type": "stream",
     "text": [
      "D:\\Vendors\\anaconda\\lib\\site-packages\\pkg_resources\\__init__.py:123: PkgResourcesDeprecationWarning: 4.0.0-unsupported is an invalid version and will not be supported in a future release\n",
      "  warnings.warn(\n",
      "D:\\Vendors\\anaconda\\lib\\site-packages\\pkg_resources\\__init__.py:123: PkgResourcesDeprecationWarning: 4.0.0-unsupported is an invalid version and will not be supported in a future release\n",
      "  warnings.warn(\n"
     ]
    }
   ],
   "source": [
    "from transformers import AutoTokenizer\n",
    "from model import CLSModel"
   ]
  },
  {
   "cell_type": "code",
   "execution_count": 6,
   "id": "9e8b473f-3fea-4228-a080-635e2d2983a3",
   "metadata": {},
   "outputs": [
    {
     "name": "stderr",
     "output_type": "stream",
     "text": [
      "Some weights of the model checkpoint at klue/bert-base were not used when initializing BertModel: ['cls.predictions.transform.LayerNorm.weight', 'cls.seq_relationship.weight', 'cls.predictions.bias', 'cls.predictions.decoder.weight', 'cls.predictions.transform.LayerNorm.bias', 'cls.predictions.transform.dense.weight', 'cls.predictions.decoder.bias', 'cls.predictions.transform.dense.bias', 'cls.seq_relationship.bias']\n",
      "- This IS expected if you are initializing BertModel from the checkpoint of a model trained on another task or with another architecture (e.g. initializing a BertForSequenceClassification model from a BertForPreTraining model).\n",
      "- This IS NOT expected if you are initializing BertModel from the checkpoint of a model that you expect to be exactly identical (initializing a BertForSequenceClassification model from a BertForSequenceClassification model).\n",
      "Some weights of the model checkpoint at klue/bert-base were not used when initializing BertModel: ['cls.predictions.transform.LayerNorm.weight', 'cls.seq_relationship.weight', 'cls.predictions.bias', 'cls.predictions.decoder.weight', 'cls.predictions.transform.LayerNorm.bias', 'cls.predictions.transform.dense.weight', 'cls.predictions.decoder.bias', 'cls.predictions.transform.dense.bias', 'cls.seq_relationship.bias']\n",
      "- This IS expected if you are initializing BertModel from the checkpoint of a model trained on another task or with another architecture (e.g. initializing a BertForSequenceClassification model from a BertForPreTraining model).\n",
      "- This IS NOT expected if you are initializing BertModel from the checkpoint of a model that you expect to be exactly identical (initializing a BertForSequenceClassification model from a BertForSequenceClassification model).\n"
     ]
    }
   ],
   "source": [
    "model = CLSModel(cfg).load_from_checkpoint('models/epoch=1.ckpt',cfg=cfg)"
   ]
  },
  {
   "cell_type": "code",
   "execution_count": 7,
   "id": "91eb0a71-8a39-402d-9b44-56f8e4db4a6d",
   "metadata": {},
   "outputs": [],
   "source": [
    "test_df = pd.read_csv(cfg.TEST_CSV)"
   ]
  },
  {
   "cell_type": "code",
   "execution_count": 8,
   "id": "308e857b-35b7-4d6e-8139-395e8dd68f6d",
   "metadata": {},
   "outputs": [],
   "source": [
    "texts = [[x] for x in test_df.overview.values]"
   ]
  },
  {
   "cell_type": "code",
   "execution_count": 9,
   "id": "e1fcdf5f-ac75-4e36-b7aa-46996568dcd8",
   "metadata": {},
   "outputs": [],
   "source": [
    "tokenizer = AutoTokenizer.from_pretrained(cfg.PRETRAINED_PATH)"
   ]
  },
  {
   "cell_type": "code",
   "execution_count": 10,
   "id": "b3780914-85a8-429a-82c0-1a66f5b95e77",
   "metadata": {},
   "outputs": [],
   "source": [
    "x = tokenizer(texts,\n",
    "       truncation=True,\n",
    "       padding='max_length',\n",
    "       max_length=cfg.MAX_SEQ_LENGTH,\n",
    "       is_split_into_words=True,\n",
    "       return_tensors='pt')"
   ]
  },
  {
   "cell_type": "code",
   "execution_count": 11,
   "id": "5e7669f6-74ae-4775-b198-df059681e35d",
   "metadata": {},
   "outputs": [],
   "source": [
    "import torch"
   ]
  },
  {
   "cell_type": "code",
   "execution_count": 29,
   "id": "d4f9435e-6f7e-4b2a-b114-5b07319fbb3d",
   "metadata": {},
   "outputs": [
    {
     "name": "stdout",
     "output_type": "stream",
     "text": [
      "0 : 1000\n",
      "1000 : 2000\n",
      "2000 : 3000\n",
      "3000 : 4000\n",
      "4000 : 5000\n",
      "5000 : 6000\n",
      "6000 : 7000\n",
      "7000 : 8000\n"
     ]
    }
   ],
   "source": [
    "predictions = []\n",
    "for i in range(8):\n",
    "    print(i*1000,':',(i+1)*1000)\n",
    "    with torch.no_grad():\n",
    "        _, logits = model(x['input_ids'][i*1000:(i+1)*1000], x['attention_mask'][i*1000:(i+1)*1000])\n",
    "        predictions.extend([reversed_mapping[i] for i in logits.argmax(1).tolist()])"
   ]
  },
  {
   "cell_type": "code",
   "execution_count": 32,
   "id": "ccb87ae9-1d4e-4dab-9e10-b99700a12515",
   "metadata": {},
   "outputs": [],
   "source": [
    "sample_submission = pd.read_csv(cfg.SAMPLE_SUBMISSION)"
   ]
  },
  {
   "cell_type": "code",
   "execution_count": 35,
   "id": "a0f66c9b-be1c-4cef-968d-142b97e33c14",
   "metadata": {},
   "outputs": [],
   "source": [
    "test_df['cat3'] = predictions"
   ]
  },
  {
   "cell_type": "code",
   "execution_count": 37,
   "id": "1780a640-dee7-444c-960b-df53887aa1fc",
   "metadata": {},
   "outputs": [],
   "source": [
    "test_df['cat3'] = test_df['cat3'].replace('other','한식')"
   ]
  },
  {
   "cell_type": "code",
   "execution_count": 39,
   "id": "abcecb86-c9aa-4877-b607-148aa356490c",
   "metadata": {},
   "outputs": [],
   "source": [
    "test_df.to_csv('sub.csv', columns=['id','cat3'], index=False)"
   ]
  },
  {
   "cell_type": "code",
   "execution_count": null,
   "id": "ddad001d-01d8-411e-ad23-a12735a9dccf",
   "metadata": {},
   "outputs": [],
   "source": []
  }
 ],
 "metadata": {
  "kernelspec": {
   "display_name": "Python 3 (ipykernel)",
   "language": "python",
   "name": "python3"
  },
  "language_info": {
   "codemirror_mode": {
    "name": "ipython",
    "version": 3
   },
   "file_extension": ".py",
   "mimetype": "text/x-python",
   "name": "python",
   "nbconvert_exporter": "python",
   "pygments_lexer": "ipython3",
   "version": "3.9.7"
  }
 },
 "nbformat": 4,
 "nbformat_minor": 5
}
